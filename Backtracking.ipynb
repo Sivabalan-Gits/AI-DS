{
 "cells": [
  {
   "cell_type": "code",
   "execution_count": 1,
   "id": "02bda52a-c47e-40e3-b52e-9c7827c7b72f",
   "metadata": {},
   "outputs": [
    {
     "name": "stdout",
     "output_type": "stream",
     "text": [
      "Node a \tColor : Red\n",
      "Node b \tColor : Green\n",
      "Node c \tColor : Red\n",
      "Node d \tColor : Red\n",
      "Node e \tColor : Blue\n"
     ]
    }
   ],
   "source": [
    "def check(node, color, sol, graph):\n",
    "    for neighbor in graph[node]:\n",
    "        if sol[neighbor] == color:\n",
    "            return False\n",
    "    return True\n",
    "\n",
    "def get_node(csp):\n",
    "    for node in csp:\n",
    "        if csp[node] == -1:\n",
    "            return node\n",
    "    return None\n",
    "\n",
    "def isGoal(assign):\n",
    "    return all(val != -1 for val in assign.values())\n",
    "\n",
    "def backtrack(graph, colors):\n",
    "    assign = {node: -1 for node in graph}\n",
    "    sol = rec_backtrack(assign, graph, colors)\n",
    "    return sol\n",
    "\n",
    "def rec_backtrack(assign, graph, colors):\n",
    "    if isGoal(assign):\n",
    "        return assign\n",
    "    \n",
    "    var = get_node(assign)\n",
    "    if var is None:\n",
    "        return None\n",
    "    \n",
    "    for index, color in enumerate(colors):\n",
    "        if check(var, index, assign, graph):\n",
    "            assign[var] = index\n",
    "            result = rec_backtrack(assign, graph, colors)\n",
    "            if result:\n",
    "                return result\n",
    "            assign[var] = -1\n",
    "    return None\n",
    "\n",
    "graph = {\n",
    "    'a': ['b'],\n",
    "    'b': ['a', 'c', 'd', 'e'],\n",
    "    'c': ['b', 'e'],\n",
    "    'd': ['b', 'e'],\n",
    "    'e': ['b', 'c', 'd']\n",
    "}\n",
    "colors = [\"Red\", \"Green\", \"Blue\"]\n",
    "sol = backtrack(graph, colors)\n",
    "\n",
    "if sol:\n",
    "    for node in sol:\n",
    "        print('Node', node, '\\tColor :', colors[sol[node]])\n",
    "else:\n",
    "    print(\"No solution exists.\")\n"
   ]
  },
  {
   "cell_type": "code",
   "execution_count": 3,
   "id": "0e36cd6e-abd8-4279-a184-6c2fdb7b354c",
   "metadata": {},
   "outputs": [],
   "source": [
    "def check(assign, loc):\n",
    "    if assign['c'] == -1 and assign['d'] != -1: \n",
    "        if assign['c'] < assign['d']:\n",
    "            return False\n",
    "    if assign['d'] != -1 and assign['a'] != -1: \n",
    "        if assign['a'] - assign['d'] == 1:\n",
    "            return False\n",
    "    if assign['d'] != -1 and assign['b'] != -1: \n",
    "        if abs(assign['d'] - assign['b']) == 1:\n",
    "            return False\n",
    "    if assign['c'] != -1: \n",
    "        if assign['c'] == 3:\n",
    "            return False\n",
    "    if assign['b'] != -1:\n",
    "        if assign['b'] == 1:\n",
    "            return False\n",
    "    if loc in assign.values():\n",
    "        return False\n",
    "    return True\n",
    "\n",
    "def get_house(assign):\n",
    "    for node in assign:\n",
    "        if assign[node] == -1:\n",
    "            return node\n",
    "    return None\n",
    "\n",
    "def isGoal(assign):\n",
    "    return check(assign, -1)\n"
   ]
  },
  {
   "cell_type": "code",
   "execution_count": 4,
   "id": "8a9b4d81-770f-48b5-88d6-b44626d719c2",
   "metadata": {},
   "outputs": [
    {
     "name": "stdout",
     "output_type": "stream",
     "text": [
      "House a \tLocation: 3\n",
      "House b \tLocation: 2\n",
      "House c \tLocation: 1\n",
      "House d \tLocation: 4\n"
     ]
    }
   ],
   "source": [
    "def backtrack(assign):\n",
    "    locs = [1, 2, 3, 4]\n",
    "    return rec_backtrack(assign, locs)\n",
    "\n",
    "def rec_backtrack(assign, locs):\n",
    "    if isGoal(assign):\n",
    "        return assign\n",
    "    \n",
    "    house = get_house(assign)\n",
    "    for loc in locs:\n",
    "        if check(assign, loc):\n",
    "            assign[house] = loc\n",
    "            res = rec_backtrack(assign, locs)\n",
    "            if res:\n",
    "                return res\n",
    "            assign[house] = -1\n",
    "    return None\n",
    "\n",
    "assign = {'a': -1, 'b': -1, 'c': -1, 'd': -1}\n",
    "sol = backtrack(assign)\n",
    "\n",
    "if sol:\n",
    "    for node in sol:\n",
    "        print('House', node, '\\tLocation:', sol[node])\n",
    "else:\n",
    "    print(\"No solution exists.\")\n"
   ]
  },
  {
   "cell_type": "code",
   "execution_count": null,
   "id": "600b6dbc-d2be-4175-a210-345e9772df54",
   "metadata": {},
   "outputs": [],
   "source": []
  }
 ],
 "metadata": {
  "kernelspec": {
   "display_name": "Python 3 (ipykernel)",
   "language": "python",
   "name": "python3"
  },
  "language_info": {
   "codemirror_mode": {
    "name": "ipython",
    "version": 3
   },
   "file_extension": ".py",
   "mimetype": "text/x-python",
   "name": "python",
   "nbconvert_exporter": "python",
   "pygments_lexer": "ipython3",
   "version": "3.10.5"
  }
 },
 "nbformat": 4,
 "nbformat_minor": 5
}
