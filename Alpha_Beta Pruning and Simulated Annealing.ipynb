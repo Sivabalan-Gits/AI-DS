{
 "cells": [
  {
   "cell_type": "code",
   "execution_count": 1,
   "id": "69ef0963-df90-446b-9178-128a1b3ff612",
   "metadata": {},
   "outputs": [
    {
     "name": "stdout",
     "output_type": "stream",
     "text": [
      "\n",
      "Best Solution:  [235.89269095608972, 303.03831906634974]\n",
      "Best Cost: 147477.58446906405\n"
     ]
    }
   ],
   "source": [
    "import math\n",
    "import random\n",
    "\n",
    "def simAnnealing(initSol, initTemp, alpha, iters):\n",
    "    def fcost(sol):\n",
    "        return sum([i**2 for i in sol])\n",
    "    \n",
    "    def successors(sol, step=1.0):\n",
    "        return [x + random.uniform(-step, step) for x in sol]\n",
    "    \n",
    "    currSol = initSol\n",
    "    cost = fcost(currSol)\n",
    "    sol = currSol\n",
    "    minCost = cost\n",
    "    temp = initTemp\n",
    "    \n",
    "    for iteration in range(iters):\n",
    "        neighbor = successors(currSol)\n",
    "        ncost = fcost(neighbor)\n",
    "        costdiff = ncost - cost\n",
    "        \n",
    "        if costdiff < 0 or random.random() < math.exp(-costdiff / temp):\n",
    "            currSol = neighbor\n",
    "            cost = ncost\n",
    "            if cost < minCost:\n",
    "                sol = currSol\n",
    "                minCost = cost\n",
    "        \n",
    "        temp *= alpha\n",
    "    \n",
    "    return sol, minCost\n",
    "\n",
    "initSol = [300.0, 400.0]\n",
    "initTemp = 1000.0\n",
    "alpha = 0.95\n",
    "iters = 500\n",
    "\n",
    "bestSol, cost = simAnnealing(initSol, initTemp, alpha, iters)\n",
    "print(\"\\nBest Solution: \", bestSol)\n",
    "print(\"Best Cost:\", cost)\n"
   ]
  },
  {
   "cell_type": "code",
   "execution_count": 2,
   "id": "5c211047-8b10-49ac-8384-55443ddbc042",
   "metadata": {},
   "outputs": [
    {
     "name": "stdout",
     "output_type": "stream",
     "text": [
      "Best Value: 12\n"
     ]
    }
   ],
   "source": [
    "MIN = -float('inf')\n",
    "MAX = float('inf')\n",
    "\n",
    "def alphabeta(node, graph, isMaximizing, alpha=MIN, beta=MAX):\n",
    "    # Base case: if the node is a terminal node (a leaf node), return its value\n",
    "    if isinstance(node, int):  # Assuming terminal nodes are integer values\n",
    "        return node\n",
    "    \n",
    "    # Initialize the optimal value based on whether we're maximizing or minimizing\n",
    "    opti = MIN if isMaximizing else MAX\n",
    "    \n",
    "    for child in graph[node]:\n",
    "        val = alphabeta(child, graph, not isMaximizing, alpha, beta)\n",
    "        \n",
    "        if isMaximizing:\n",
    "            opti = max(opti, val)\n",
    "            alpha = max(alpha, opti)\n",
    "        else:\n",
    "            opti = min(opti, val)\n",
    "            beta = min(beta, opti)\n",
    "        \n",
    "        # Alpha-beta pruning\n",
    "        if beta <= alpha:\n",
    "            break\n",
    "    \n",
    "    return opti\n",
    "\n",
    "# Example graph structure\n",
    "graph = {\n",
    "    'A': ['B', 'C'],\n",
    "    'B': ['D', 'E'],\n",
    "    'C': ['F', 'G'],\n",
    "    'D': ['H', 'I'],\n",
    "    'E': [10, 5],\n",
    "    'F': [12, 11],\n",
    "    'G': [12, 9],\n",
    "    'H': [11, 12],\n",
    "    'I': [8, 9],\n",
    "}\n",
    "\n",
    "# Call the alphabeta function starting from node 'A'\n",
    "best_value = alphabeta('A', graph, True)\n",
    "print(\"Best Value:\", best_value)"
   ]
  },
  {
   "cell_type": "code",
   "execution_count": null,
   "id": "ee4197bf-ee40-4095-a027-064c2b8986ce",
   "metadata": {},
   "outputs": [],
   "source": []
  }
 ],
 "metadata": {
  "kernelspec": {
   "display_name": "Python 3 (ipykernel)",
   "language": "python",
   "name": "python3"
  },
  "language_info": {
   "codemirror_mode": {
    "name": "ipython",
    "version": 3
   },
   "file_extension": ".py",
   "mimetype": "text/x-python",
   "name": "python",
   "nbconvert_exporter": "python",
   "pygments_lexer": "ipython3",
   "version": "3.10.1"
  }
 },
 "nbformat": 4,
 "nbformat_minor": 5
}
