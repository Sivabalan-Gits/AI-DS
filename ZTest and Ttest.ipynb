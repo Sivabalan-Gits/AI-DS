{
 "cells": [
  {
   "cell_type": "code",
   "execution_count": 11,
   "id": "33d4c007-d433-4a41-ba10-dbe0224a9e76",
   "metadata": {},
   "outputs": [],
   "source": [
    "import pandas as pd\n",
    "import random\n",
    "import math"
   ]
  },
  {
   "cell_type": "code",
   "execution_count": 12,
   "id": "261838e2-703c-457c-88b1-3faa699d67c6",
   "metadata": {},
   "outputs": [
    {
     "data": {
      "text/html": [
       "<div>\n",
       "<style scoped>\n",
       "    .dataframe tbody tr th:only-of-type {\n",
       "        vertical-align: middle;\n",
       "    }\n",
       "\n",
       "    .dataframe tbody tr th {\n",
       "        vertical-align: top;\n",
       "    }\n",
       "\n",
       "    .dataframe thead th {\n",
       "        text-align: right;\n",
       "    }\n",
       "</style>\n",
       "<table border=\"1\" class=\"dataframe\">\n",
       "  <thead>\n",
       "    <tr style=\"text-align: right;\">\n",
       "      <th></th>\n",
       "      <th>Index</th>\n",
       "      <th>Height(Inches)</th>\n",
       "      <th>Weight(Pounds)</th>\n",
       "    </tr>\n",
       "  </thead>\n",
       "  <tbody>\n",
       "    <tr>\n",
       "      <th>0</th>\n",
       "      <td>1</td>\n",
       "      <td>65.78331</td>\n",
       "      <td>112.9925</td>\n",
       "    </tr>\n",
       "    <tr>\n",
       "      <th>1</th>\n",
       "      <td>2</td>\n",
       "      <td>71.51521</td>\n",
       "      <td>136.4873</td>\n",
       "    </tr>\n",
       "    <tr>\n",
       "      <th>2</th>\n",
       "      <td>3</td>\n",
       "      <td>69.39874</td>\n",
       "      <td>153.0269</td>\n",
       "    </tr>\n",
       "    <tr>\n",
       "      <th>3</th>\n",
       "      <td>4</td>\n",
       "      <td>68.21660</td>\n",
       "      <td>142.3354</td>\n",
       "    </tr>\n",
       "    <tr>\n",
       "      <th>4</th>\n",
       "      <td>5</td>\n",
       "      <td>67.78781</td>\n",
       "      <td>144.2971</td>\n",
       "    </tr>\n",
       "  </tbody>\n",
       "</table>\n",
       "</div>"
      ],
      "text/plain": [
       "   Index  Height(Inches)  Weight(Pounds)\n",
       "0      1        65.78331        112.9925\n",
       "1      2        71.51521        136.4873\n",
       "2      3        69.39874        153.0269\n",
       "3      4        68.21660        142.3354\n",
       "4      5        67.78781        144.2971"
      ]
     },
     "execution_count": 12,
     "metadata": {},
     "output_type": "execute_result"
    }
   ],
   "source": [
    "df=pd.read_csv(r\"F:\\Fundamentals of AI & DS\\Z Test\\SOCR-HeightWeight.csv\")\n",
    "df.head()"
   ]
  },
  {
   "cell_type": "code",
   "execution_count": 13,
   "id": "d29709c4-a0c7-48a2-b99a-82ddce5a6c29",
   "metadata": {},
   "outputs": [
    {
     "name": "stdout",
     "output_type": "stream",
     "text": [
      "0        65.78331\n",
      "1        71.51521\n",
      "2        69.39874\n",
      "3        68.21660\n",
      "4        67.78781\n",
      "           ...   \n",
      "24995    69.50215\n",
      "24996    64.54826\n",
      "24997    64.69855\n",
      "24998    67.52918\n",
      "24999    68.87761\n",
      "Name: Height(Inches), Length: 25000, dtype: float64\n"
     ]
    }
   ],
   "source": [
    "height=df[\"Height(Inches)\"]\n",
    "print(height)"
   ]
  },
  {
   "cell_type": "code",
   "execution_count": 14,
   "id": "bbc7f5a9-4bdb-4f70-8d16-e96a0a9cd65b",
   "metadata": {},
   "outputs": [
    {
     "name": "stdout",
     "output_type": "stream",
     "text": [
      "67.99311359679979\n"
     ]
    }
   ],
   "source": [
    "n=len(height)\n",
    "population_mean=0\n",
    "for i in height: population_mean+=i\n",
    "population_mean/=n\n",
    "print(population_mean)"
   ]
  },
  {
   "cell_type": "code",
   "execution_count": 15,
   "id": "45d5e146-5700-4c68-b306-a0bdd964a3e3",
   "metadata": {},
   "outputs": [
    {
     "name": "stdout",
     "output_type": "stream",
     "text": [
      "6947 12905\n",
      "6947     66.96450\n",
      "6948     64.88959\n",
      "6949     70.18743\n",
      "6950     70.24701\n",
      "6951     68.65855\n",
      "           ...   \n",
      "12900    70.72584\n",
      "12901    68.11148\n",
      "12902    68.46257\n",
      "12903    68.01290\n",
      "12904    66.96139\n",
      "Name: Height(Inches), Length: 5958, dtype: float64\n"
     ]
    }
   ],
   "source": [
    "fr=random.randint(0,n)\n",
    "while(True): \n",
    "    to=random.randint(0,n)\n",
    "    if to>fr: break\n",
    "print(fr,to)\n",
    "sample_height=height.iloc[fr:to]\n",
    "print(sample_height)"
   ]
  },
  {
   "cell_type": "code",
   "execution_count": 16,
   "id": "75962b3a-f7ad-4f3c-af2b-5a00e3080fd0",
   "metadata": {},
   "outputs": [
    {
     "name": "stdout",
     "output_type": "stream",
     "text": [
      "67.99223241020483\n"
     ]
    }
   ],
   "source": [
    "nsample=len(sample_height)\n",
    "sample_mean=0\n",
    "for i in sample_height: sample_mean+=i\n",
    "sample_mean/=nsample\n",
    "print(sample_mean)"
   ]
  },
  {
   "cell_type": "code",
   "execution_count": 17,
   "id": "9fa03466-3787-4352-91b5-9766c7713e14",
   "metadata": {},
   "outputs": [
    {
     "name": "stdout",
     "output_type": "stream",
     "text": [
      "1.9016787712056105\n"
     ]
    }
   ],
   "source": [
    "population_sdeviation=height.std()\n",
    "print(population_sdeviation)"
   ]
  },
  {
   "cell_type": "code",
   "execution_count": 18,
   "id": "2867f202-1aeb-4033-a8c5-d720af209bac",
   "metadata": {},
   "outputs": [
    {
     "name": "stdout",
     "output_type": "stream",
     "text": [
      "-0.0004633729987919372\n"
     ]
    }
   ],
   "source": [
    "z_score=(sample_mean-population_mean)/(population_sdeviation)\n",
    "print(z_score)"
   ]
  },
  {
   "cell_type": "code",
   "execution_count": 19,
   "id": "7c93230b-88b5-444a-916c-31318e9f22a7",
   "metadata": {},
   "outputs": [
    {
     "name": "stdout",
     "output_type": "stream",
     "text": [
      "-0.07326570412024863\n"
     ]
    }
   ],
   "source": [
    "t_score=(sample_mean-population_mean)/(population_sdeviation/math.sqrt(n))\n",
    "print(t_score)"
   ]
  }
 ],
 "metadata": {
  "kernelspec": {
   "display_name": "Python 3 (ipykernel)",
   "language": "python",
   "name": "python3"
  },
  "language_info": {
   "codemirror_mode": {
    "name": "ipython",
    "version": 3
   },
   "file_extension": ".py",
   "mimetype": "text/x-python",
   "name": "python",
   "nbconvert_exporter": "python",
   "pygments_lexer": "ipython3",
   "version": "3.12.6"
  }
 },
 "nbformat": 4,
 "nbformat_minor": 5
}
